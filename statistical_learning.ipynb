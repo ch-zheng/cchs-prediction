{
  "nbformat": 4,
  "nbformat_minor": 0,
  "metadata": {
    "orig_nbformat": 4,
    "language_info": {
      "name": "python",
      "version": "3.9.6",
      "mimetype": "text/x-python",
      "codemirror_mode": {
        "name": "ipython",
        "version": 3
      },
      "pygments_lexer": "ipython3",
      "nbconvert_exporter": "python",
      "file_extension": ".py"
    },
    "kernelspec": {
      "name": "python3",
      "display_name": "Python 3.9.6 64-bit"
    },
    "interpreter": {
      "hash": "cb780d572e831aa1c7a964aa13cce9a81c201b20bea2761400e5c772d1b04f6b"
    },
    "colab": {
      "name": "statistical_learning.ipynb",
      "provenance": [],
      "collapsed_sections": [
        "lWhM2vwVucoT",
        "0DdGJqIGk7Q1",
        "1RSR72-mfd1G",
        "0VNTdnCElMS3",
        "abSy0PLGlUVI",
        "OV_dJWtplk8S",
        "GX1UFbIQlEvk",
        "zAEAJMiYoQPE",
        "Uu43P7cIobzG",
        "28Fmcm7wpW3U",
        "8NBV0GAdyEty",
        "oglO1rwJyJ2A",
        "rQQ16w6j6_4a",
        "rWQVtpQikiLB"
      ]
    }
  },
  "cells": [
    {
      "cell_type": "markdown",
      "metadata": {
        "id": "lWhM2vwVucoT"
      },
      "source": [
        "# Preprocessing"
      ]
    },
    {
      "cell_type": "code",
      "metadata": {
        "id": "sj98TdfTkzID"
      },
      "source": [
        "# import libraries\n",
        "import numpy as np\n",
        "from sklearn.model_selection import cross_val_score"
      ],
      "execution_count": 1,
      "outputs": []
    },
    {
      "cell_type": "code",
      "metadata": {
        "colab": {
          "base_uri": "https://localhost:8080/"
        },
        "id": "jzCat32EffP-",
        "outputId": "7bc00975-3e42-4096-95b1-4fe256507b12"
      },
      "source": [
        "# clone github repo\n",
        "!git clone https://github.com/ch-zheng/cchs-prediction.git\n",
        "%cd cchs-prediction/"
      ],
      "execution_count": 2,
      "outputs": [
        {
          "output_type": "stream",
          "name": "stdout",
          "text": [
            "fatal: destination path 'cchs-prediction' already exists and is not an empty directory.\n",
            "/content/cchs-prediction\n"
          ]
        }
      ]
    },
    {
      "cell_type": "code",
      "metadata": {
        "id": "-GH6_POV7iTC"
      },
      "source": [
        "# load data\n",
        "samples = np.load('data/samples.npy')\n",
        "labels = np.load('data/labels.npy')"
      ],
      "execution_count": 3,
      "outputs": []
    },
    {
      "cell_type": "code",
      "metadata": {
        "id": "-8dKNjLI8hT5"
      },
      "source": [
        "# initialize dictionary\n",
        "avg_accuracy = {}\n",
        "avg_accuracy[\"Multilayer Perceptron\"] = 0.900 # mlp.py"
      ],
      "execution_count": 4,
      "outputs": []
    },
    {
      "cell_type": "markdown",
      "metadata": {
        "id": "GX1UFbIQlEvk"
      },
      "source": [
        "# **Decision Tree**"
      ]
    },
    {
      "cell_type": "code",
      "metadata": {
        "id": "VNCowQRO7lkh"
      },
      "source": [
        "from sklearn.tree import DecisionTreeClassifier\n",
        "model = DecisionTreeClassifier()"
      ],
      "execution_count": 5,
      "outputs": []
    },
    {
      "cell_type": "code",
      "metadata": {
        "id": "GJSfg-c67vni"
      },
      "source": [
        "scores = cross_val_score(model, samples, labels, cv=100)\n",
        "avg_accuracy[\"Decision Tree\"] = sum(scores) / len(scores)"
      ],
      "execution_count": 6,
      "outputs": []
    },
    {
      "cell_type": "markdown",
      "metadata": {
        "id": "28Fmcm7wpW3U"
      },
      "source": [
        "# **Logistic Regression**"
      ]
    },
    {
      "cell_type": "code",
      "metadata": {
        "id": "kgS22ldY8PwR"
      },
      "source": [
        "from sklearn.linear_model import LogisticRegression\n",
        "model = LogisticRegression(max_iter=1000)"
      ],
      "execution_count": 7,
      "outputs": []
    },
    {
      "cell_type": "code",
      "metadata": {
        "id": "KwqAVPF_8T9P"
      },
      "source": [
        "scores = cross_val_score(model, samples, labels, cv=100, n_jobs=-1)\n",
        "avg_accuracy[\"Logistic Regression\"] = sum(scores) / len(scores)"
      ],
      "execution_count": 8,
      "outputs": []
    },
    {
      "cell_type": "markdown",
      "metadata": {
        "id": "24G4jECsgM4q"
      },
      "source": [
        "# **LASSO Regression**"
      ]
    },
    {
      "cell_type": "code",
      "metadata": {
        "id": "nUz_66bm95Z2"
      },
      "source": [
        "#tktk"
      ],
      "execution_count": 9,
      "outputs": []
    },
    {
      "cell_type": "markdown",
      "metadata": {
        "id": "ehgk_pIeHHKk"
      },
      "source": [
        "# **Polynomial Regression**"
      ]
    },
    {
      "cell_type": "code",
      "metadata": {
        "id": "4zInCIog-AlT"
      },
      "source": [
        "#tktk"
      ],
      "execution_count": 10,
      "outputs": []
    },
    {
      "cell_type": "markdown",
      "metadata": {
        "id": "0uzhNnNz-Cni"
      },
      "source": [
        "# **Ridge Regression**"
      ]
    },
    {
      "cell_type": "code",
      "metadata": {
        "id": "VD1IzxH4CNcA"
      },
      "source": [
        "from sklearn.linear_model import RidgeClassifier\n",
        "model = RidgeClassifier()"
      ],
      "execution_count": 11,
      "outputs": []
    },
    {
      "cell_type": "code",
      "metadata": {
        "id": "ewcrMuHHCNeY"
      },
      "source": [
        "scores = cross_val_score(model, samples, labels, cv=100)\n",
        "avg_accuracy[\"Ridge Regression\"] = sum(scores) / len(scores)"
      ],
      "execution_count": 12,
      "outputs": []
    },
    {
      "cell_type": "markdown",
      "metadata": {
        "id": "GrTTm_BS-GFi"
      },
      "source": [
        "# **K-nearest neighbors**"
      ]
    },
    {
      "cell_type": "code",
      "metadata": {
        "id": "HvCkVKlYCNM4"
      },
      "source": [
        "from sklearn import neighbors\n",
        "model = neighbors.KNeighborsClassifier(n_jobs=-1)"
      ],
      "execution_count": 13,
      "outputs": []
    },
    {
      "cell_type": "code",
      "metadata": {
        "id": "T8PjJEy8CNPg"
      },
      "source": [
        "scores = cross_val_score(model, samples, labels, cv=100)\n",
        "avg_accuracy[\"K-Nearest Neighbors\"] = sum(scores) / len(scores)"
      ],
      "execution_count": 14,
      "outputs": []
    },
    {
      "cell_type": "markdown",
      "metadata": {
        "id": "KOZfpZk4-JBi"
      },
      "source": [
        "# **Support Vector Machine**"
      ]
    },
    {
      "cell_type": "code",
      "metadata": {
        "id": "iQZOqikSCM4A"
      },
      "source": [
        "from sklearn import svm\n",
        "model = svm.SVC()"
      ],
      "execution_count": 15,
      "outputs": []
    },
    {
      "cell_type": "code",
      "metadata": {
        "id": "jWKtFOkiCM8Z"
      },
      "source": [
        "scores = cross_val_score(model, samples, labels, cv=100, n_jobs=-1)\n",
        "avg_accuracy[\"SVM\"] = sum(scores) / len(scores)"
      ],
      "execution_count": 16,
      "outputs": []
    },
    {
      "cell_type": "markdown",
      "metadata": {
        "id": "1gj1z7yH-Lli"
      },
      "source": [
        "# **Naive Bayes**"
      ]
    },
    {
      "cell_type": "code",
      "metadata": {
        "id": "UXL2wC6MB7Fl"
      },
      "source": [
        "from sklearn.naive_bayes import GaussianNB\n",
        "model = GaussianNB()"
      ],
      "execution_count": 17,
      "outputs": []
    },
    {
      "cell_type": "code",
      "metadata": {
        "id": "hVBm_MUBCB6l"
      },
      "source": [
        "scores = cross_val_score(model, samples, labels, cv=100)\n",
        "avg_accuracy[\"Naive Bayes\"] = sum(scores) / len(scores)"
      ],
      "execution_count": 18,
      "outputs": []
    },
    {
      "cell_type": "markdown",
      "metadata": {
        "id": "QdbLI1wLDL2r"
      },
      "source": [
        "# Display Metrics"
      ]
    },
    {
      "cell_type": "code",
      "metadata": {
        "colab": {
          "base_uri": "https://localhost:8080/"
        },
        "id": "JI3kkHfHDOxy",
        "outputId": "377dcc12-8673-4585-b5e1-d13c4158d348"
      },
      "source": [
        "# display avg accuracy\n",
        "for i in sorted(avg_accuracy, key=avg_accuracy.get, reverse=True):\n",
        "  print(\"%-30s%-20s\" % (i, \"{:.2f}\".format(avg_accuracy[i]*100)))"
      ],
      "execution_count": 31,
      "outputs": [
        {
          "output_type": "stream",
          "name": "stdout",
          "text": [
            "Multilayer Perceptron         90.00               \n",
            "Ridge Regression              81.94               \n",
            "Logistic Regression           78.05               \n",
            "K-Nearest Neighbors           71.52               \n",
            "Decision Tree                 69.76               \n",
            "SVM                           68.68               \n",
            "Naive Bayes                   53.77               \n"
          ]
        }
      ]
    }
  ]
}