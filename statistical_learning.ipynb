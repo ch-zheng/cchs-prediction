{
  "nbformat": 4,
  "nbformat_minor": 2,
  "metadata": {
    "orig_nbformat": 4,
    "language_info": {
      "name": "python",
      "version": "3.9.6",
      "mimetype": "text/x-python",
      "codemirror_mode": {
        "name": "ipython",
        "version": 3
      },
      "pygments_lexer": "ipython3",
      "nbconvert_exporter": "python",
      "file_extension": ".py"
    },
    "kernelspec": {
      "name": "python3",
      "display_name": "Python 3.9.6 64-bit"
    },
    "interpreter": {
      "hash": "cb780d572e831aa1c7a964aa13cce9a81c201b20bea2761400e5c772d1b04f6b"
    },
    "colab": {
      "name": "statistical_learning.ipynb",
      "provenance": [],
      "collapsed_sections": [
        "lWhM2vwVucoT",
        "0DdGJqIGk7Q1",
        "1RSR72-mfd1G",
        "0VNTdnCElMS3",
        "abSy0PLGlUVI",
        "OV_dJWtplk8S",
        "GX1UFbIQlEvk",
        "zAEAJMiYoQPE",
        "Uu43P7cIobzG",
        "28Fmcm7wpW3U",
        "8NBV0GAdyEty",
        "oglO1rwJyJ2A",
        "rQQ16w6j6_4a",
        "rWQVtpQikiLB"
      ]
    }
  },
  "cells": [
    {
      "cell_type": "markdown",
      "source": [
        "# Preprocessing"
      ],
      "metadata": {
        "id": "lWhM2vwVucoT"
      }
    },
    {
      "cell_type": "code",
      "execution_count": 1,
      "source": [
        "# import libraries\r\n",
        "import numpy as np\r\n",
        "from sklearn.model_selection import cross_val_score"
      ],
      "outputs": [],
      "metadata": {
        "id": "sj98TdfTkzID"
      }
    },
    {
      "cell_type": "code",
      "execution_count": 2,
      "source": [
        "# clone github repo\r\n",
        "!git clone https://github.com/ch-zheng/cchs-prediction.git\r\n",
        "%cd cchs-prediction/"
      ],
      "outputs": [
        {
          "output_type": "stream",
          "name": "stdout",
          "text": [
            "fatal: destination path 'cchs-prediction' already exists and is not an empty directory.\n",
            "/content/cchs-prediction\n"
          ]
        }
      ],
      "metadata": {
        "colab": {
          "base_uri": "https://localhost:8080/"
        },
        "id": "jzCat32EffP-",
        "outputId": "88d63b6e-b620-4a86-c3bc-c4c58ced34a4"
      }
    },
    {
      "cell_type": "code",
      "execution_count": 3,
      "source": [
        "# load data\r\n",
        "samples = np.load('data/samples.npy')\r\n",
        "labels = np.load('data/labels.npy')"
      ],
      "outputs": [],
      "metadata": {
        "id": "-GH6_POV7iTC"
      }
    },
    {
      "cell_type": "code",
      "execution_count": 4,
      "source": [
        "# train data\r\n",
        "X_train = np.load('data/training/samples.npy')\r\n",
        "y_train = np.load('data/training/labels.npy')\r\n",
        "\r\n",
        "# test data\r\n",
        "X_test = np.load('data/test/samples.npy')\r\n",
        "y_test = np.load('data/test/labels.npy')"
      ],
      "outputs": [],
      "metadata": {
        "id": "1NnCA7YjJkht"
      }
    },
    {
      "cell_type": "markdown",
      "source": [
        "# Create models"
      ],
      "metadata": {
        "id": "bVjPHOp_KJoA"
      }
    },
    {
      "cell_type": "code",
      "execution_count": 5,
      "source": [
        "# import models\r\n",
        "from sklearn.tree import DecisionTreeClassifier\r\n",
        "from sklearn.linear_model import LogisticRegression\r\n",
        "from sklearn.linear_model import Lasso\r\n",
        "from sklearn.preprocessing import PolynomialFeatures\r\n",
        "from sklearn.linear_model import LinearRegression\r\n",
        "from sklearn.linear_model import RidgeClassifier\r\n",
        "from sklearn import neighbors\r\n",
        "from sklearn import svm\r\n",
        "from sklearn.naive_bayes import GaussianNB"
      ],
      "outputs": [],
      "metadata": {
        "id": "pzOWHKk4KM4x"
      }
    },
    {
      "cell_type": "code",
      "execution_count": 6,
      "source": [
        "# initialize models\r\n",
        "tree = DecisionTreeClassifier()\r\n",
        "logreg = LogisticRegression(max_iter=1000)\r\n",
        "# tktk lasso\r\n",
        "# tktk polyreg\r\n",
        "ridge = RidgeClassifier()\r\n",
        "knearest = neighbors.KNeighborsClassifier(n_jobs=-1)\r\n",
        "svm_model = svm.SVC()\r\n",
        "naive = GaussianNB()"
      ],
      "outputs": [],
      "metadata": {
        "id": "tjOLvfaPKS0g"
      }
    },
    {
      "cell_type": "code",
      "execution_count": 8,
      "source": [
        "# models dictionary\r\n",
        "# add lasso, polyreg to dictionary (TODO)\r\n",
        "models = {\r\n",
        "    \"Decision Tree\": tree,\r\n",
        "    \"Logistic Regression\": logreg,\r\n",
        "    \"Ridge Regression\": ridge,\r\n",
        "    \"K-Nearest Neighbors\": knearest,\r\n",
        "    \"SVM\": svm_model,\r\n",
        "    \"Naive Bayes\": naive\r\n",
        "}"
      ],
      "outputs": [],
      "metadata": {
        "id": "HgaflXhULedW"
      }
    },
    {
      "cell_type": "markdown",
      "source": [
        "# Evaluate models"
      ],
      "metadata": {
        "id": "jytYsOlqLytx"
      }
    },
    {
      "cell_type": "markdown",
      "source": [
        "### Average accuracy"
      ],
      "metadata": {
        "id": "K2FUMEJBMOfy"
      }
    },
    {
      "cell_type": "code",
      "execution_count": 9,
      "source": [
        "# avg_accuracy dictionary\r\n",
        "avg_accuracy = {}\r\n",
        "avg_accuracy[\"Multilayer Perceptron\"] = 0.900 # mlp.py"
      ],
      "outputs": [],
      "metadata": {
        "id": "dIugkfrLL-xx"
      }
    },
    {
      "cell_type": "code",
      "execution_count": 10,
      "source": [
        "for name, m in models.items():\r\n",
        "  scores = cross_val_score(m, samples, labels, cv=100, n_jobs=-1) # 100-fold cross-validation\r\n",
        "  avg_accuracy[name] = sum(scores) / len(scores)"
      ],
      "outputs": [],
      "metadata": {
        "id": "gl87Vs96L1dR"
      }
    },
    {
      "cell_type": "code",
      "execution_count": 11,
      "source": [
        "# display avg_accuracy\r\n",
        "for i in sorted(avg_accuracy, key=avg_accuracy.get, reverse=True):\r\n",
        "  print(\"%-30s%-20s\" % (i, \"{:.2f}\".format(avg_accuracy[i]*100)))"
      ],
      "outputs": [
        {
          "output_type": "stream",
          "name": "stdout",
          "text": [
            "Multilayer Perceptron         90.00               \n",
            "Ridge Regression              81.94               \n",
            "Logistic Regression           78.05               \n",
            "K-Nearest Neighbors           71.52               \n",
            "Decision Tree                 70.45               \n",
            "SVM                           68.68               \n",
            "Naive Bayes                   53.77               \n"
          ]
        }
      ],
      "metadata": {
        "colab": {
          "base_uri": "https://localhost:8080/"
        },
        "id": "JtMNPsxsMNmn",
        "outputId": "041efc72-3235-4c53-ca58-e34d09a9dd2c"
      }
    },
    {
      "cell_type": "markdown",
      "source": [
        "# Generate coefficients"
      ],
      "metadata": {
        "id": "WXGGnPlFHOaY"
      }
    },
    {
      "cell_type": "code",
      "execution_count": 12,
      "source": [
        "# fit models\r\n",
        "for name, m in models.items():\r\n",
        "  m.fit(X_train, y_train)"
      ],
      "outputs": [],
      "metadata": {
        "id": "Tmc3ypLKI_aB"
      }
    },
    {
      "cell_type": "code",
      "execution_count": 52,
      "source": [
        "# coefficients dictionary\r\n",
        "coeffs = {}\r\n",
        "for name, m in models.items():\r\n",
        "  try:\r\n",
        "    coeffs[name] = m.coef_.tolist()[0] # NOTE: first two coeffs are for race, age\r\n",
        "  except (AttributeError):\r\n",
        "    continue"
      ],
      "outputs": [],
      "metadata": {
        "id": "6A3LXinIJEAr"
      }
    },
    {
      "cell_type": "code",
      "execution_count": 53,
      "source": [
        "print(coeffs.keys())"
      ],
      "outputs": [
        {
          "output_type": "stream",
          "name": "stdout",
          "text": [
            "dict_keys(['Logistic Regression', 'Ridge Regression'])\n"
          ]
        }
      ],
      "metadata": {
        "colab": {
          "base_uri": "https://localhost:8080/"
        },
        "id": "KyPXJyKCHQVh",
        "outputId": "4c665cf2-afb6-40f6-ec76-f0b797dece58"
      }
    },
    {
      "cell_type": "code",
      "execution_count": 55,
      "source": [
        "# write coefficient arrays to csv\r\n",
        "import csv\r\n",
        "\r\n",
        "OUTPUT = \"data/coefficients.csv\"\r\n",
        "\r\n",
        "with open(OUTPUT, 'w') as csvfile:\r\n",
        "  csvWriter = csv.writer(csvfile)\r\n",
        "  \r\n",
        "  # header\r\n",
        "  header = [\"model\", \"race\", \"age\"]\r\n",
        "  for i in range(68):\r\n",
        "    header.append('x' + str(i))\r\n",
        "    header.append('y' + str(i))\r\n",
        "  csvWriter.writerow(header)\r\n",
        "\r\n",
        "  # store coefficients\r\n",
        "  for name, coeff_arr in coeffs.items():\r\n",
        "    row = [name]\r\n",
        "    for c in coeff_arr:\r\n",
        "      row.append(c)\r\n",
        "    csvWriter.writerow(row)"
      ],
      "outputs": [],
      "metadata": {
        "id": "n6X9RZSANvar"
      }
    }
  ]
}