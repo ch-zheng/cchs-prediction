{
  "nbformat": 4,
  "nbformat_minor": 0,
  "metadata": {
    "orig_nbformat": 4,
    "language_info": {
      "name": "python",
      "version": "3.9.6",
      "mimetype": "text/x-python",
      "codemirror_mode": {
        "name": "ipython",
        "version": 3
      },
      "pygments_lexer": "ipython3",
      "nbconvert_exporter": "python",
      "file_extension": ".py"
    },
    "kernelspec": {
      "name": "python3",
      "display_name": "Python 3.9.6 64-bit"
    },
    "interpreter": {
      "hash": "cb780d572e831aa1c7a964aa13cce9a81c201b20bea2761400e5c772d1b04f6b"
    },
    "colab": {
      "name": "statistical_learning.ipynb",
      "provenance": [],
      "collapsed_sections": [
        "lWhM2vwVucoT",
        "0DdGJqIGk7Q1",
        "1RSR72-mfd1G",
        "0VNTdnCElMS3",
        "abSy0PLGlUVI",
        "OV_dJWtplk8S",
        "GX1UFbIQlEvk",
        "zAEAJMiYoQPE",
        "Uu43P7cIobzG",
        "28Fmcm7wpW3U",
        "8NBV0GAdyEty",
        "oglO1rwJyJ2A",
        "rQQ16w6j6_4a",
        "rWQVtpQikiLB"
      ]
    }
  },
  "cells": [
    {
      "cell_type": "markdown",
      "metadata": {
        "id": "lWhM2vwVucoT"
      },
      "source": [
        "# Preprocessing"
      ]
    },
    {
      "cell_type": "code",
      "metadata": {
        "id": "sj98TdfTkzID"
      },
      "source": [
        "# import libraries\n",
        "import numpy as np\n",
        "from sklearn.model_selection import cross_val_score"
      ],
      "execution_count": 1,
      "outputs": []
    },
    {
      "cell_type": "code",
      "metadata": {
        "colab": {
          "base_uri": "https://localhost:8080/"
        },
        "id": "jzCat32EffP-",
        "outputId": "88d63b6e-b620-4a86-c3bc-c4c58ced34a4"
      },
      "source": [
        "# clone github repo\n",
        "!git clone https://github.com/ch-zheng/cchs-prediction.git\n",
        "%cd cchs-prediction/"
      ],
      "execution_count": 2,
      "outputs": [
        {
          "output_type": "stream",
          "name": "stdout",
          "text": [
            "fatal: destination path 'cchs-prediction' already exists and is not an empty directory.\n",
            "/content/cchs-prediction\n"
          ]
        }
      ]
    },
    {
      "cell_type": "code",
      "metadata": {
        "id": "-GH6_POV7iTC"
      },
      "source": [
        "# load data\n",
        "samples = np.load('data/samples.npy')\n",
        "labels = np.load('data/labels.npy')"
      ],
      "execution_count": 3,
      "outputs": []
    },
    {
      "cell_type": "code",
      "metadata": {
        "id": "1NnCA7YjJkht"
      },
      "source": [
        "# train data\n",
        "X_train = np.load('data/training/samples.npy')\n",
        "y_train = np.load('data/training/labels.npy')\n",
        "\n",
        "# test data\n",
        "X_test = np.load('data/test/samples.npy')\n",
        "y_test = np.load('data/test/labels.npy')"
      ],
      "execution_count": 4,
      "outputs": []
    },
    {
      "cell_type": "markdown",
      "metadata": {
        "id": "bVjPHOp_KJoA"
      },
      "source": [
        "# Create models"
      ]
    },
    {
      "cell_type": "code",
      "metadata": {
        "id": "pzOWHKk4KM4x"
      },
      "source": [
        "# import models\n",
        "from sklearn.tree import DecisionTreeClassifier\n",
        "from sklearn.linear_model import LogisticRegression\n",
        "from sklearn.linear_model import Lasso\n",
        "from sklearn.preprocessing import PolynomialFeatures\n",
        "from sklearn.linear_model import LinearRegression\n",
        "from sklearn.linear_model import RidgeClassifier\n",
        "from sklearn import neighbors\n",
        "from sklearn import svm\n",
        "from sklearn.naive_bayes import GaussianNB"
      ],
      "execution_count": 5,
      "outputs": []
    },
    {
      "cell_type": "code",
      "metadata": {
        "id": "tjOLvfaPKS0g"
      },
      "source": [
        "# initialize models\n",
        "tree = DecisionTreeClassifier()\n",
        "logreg = LogisticRegression(max_iter=1000)\n",
        "# tktk lasso\n",
        "# tktk polyreg\n",
        "ridge = RidgeClassifier()\n",
        "knearest = neighbors.KNeighborsClassifier(n_jobs=-1)\n",
        "svm_model = svm.SVC()\n",
        "naive = GaussianNB()"
      ],
      "execution_count": 6,
      "outputs": []
    },
    {
      "cell_type": "code",
      "metadata": {
        "id": "HgaflXhULedW"
      },
      "source": [
        "# models dictionary\n",
        "# add lasso, polyreg to dictionary (TODO)\n",
        "models = {\n",
        "    \"Decision Tree\": tree,\n",
        "    \"Logistic Regression\": logreg,\n",
        "    \"Ridge Regression\": ridge,\n",
        "    \"K-Nearest Neighbors\": knearest,\n",
        "    \"SVM\": svm_model,\n",
        "    \"Naive Bayes\": naive\n",
        "}"
      ],
      "execution_count": 8,
      "outputs": []
    },
    {
      "cell_type": "markdown",
      "metadata": {
        "id": "jytYsOlqLytx"
      },
      "source": [
        "# Evaluate models"
      ]
    },
    {
      "cell_type": "markdown",
      "metadata": {
        "id": "K2FUMEJBMOfy"
      },
      "source": [
        "### Average accuracy"
      ]
    },
    {
      "cell_type": "code",
      "metadata": {
        "id": "dIugkfrLL-xx"
      },
      "source": [
        "# avg_accuracy dictionary\n",
        "avg_accuracy = {}\n",
        "avg_accuracy[\"Multilayer Perceptron\"] = 0.900 # mlp.py"
      ],
      "execution_count": 9,
      "outputs": []
    },
    {
      "cell_type": "code",
      "metadata": {
        "id": "gl87Vs96L1dR"
      },
      "source": [
        "for name, m in models.items():\n",
        "  scores = cross_val_score(m, samples, labels, cv=100, n_jobs=-1)\n",
        "  avg_accuracy[name] = sum(scores) / len(scores)"
      ],
      "execution_count": 10,
      "outputs": []
    },
    {
      "cell_type": "code",
      "metadata": {
        "colab": {
          "base_uri": "https://localhost:8080/"
        },
        "id": "JtMNPsxsMNmn",
        "outputId": "041efc72-3235-4c53-ca58-e34d09a9dd2c"
      },
      "source": [
        "# display avg_accuracy\n",
        "for i in sorted(avg_accuracy, key=avg_accuracy.get, reverse=True):\n",
        "  print(\"%-30s%-20s\" % (i, \"{:.2f}\".format(avg_accuracy[i]*100)))"
      ],
      "execution_count": 11,
      "outputs": [
        {
          "output_type": "stream",
          "name": "stdout",
          "text": [
            "Multilayer Perceptron         90.00               \n",
            "Ridge Regression              81.94               \n",
            "Logistic Regression           78.05               \n",
            "K-Nearest Neighbors           71.52               \n",
            "Decision Tree                 70.45               \n",
            "SVM                           68.68               \n",
            "Naive Bayes                   53.77               \n"
          ]
        }
      ]
    },
    {
      "cell_type": "markdown",
      "metadata": {
        "id": "WXGGnPlFHOaY"
      },
      "source": [
        "# Generate coefficients"
      ]
    },
    {
      "cell_type": "code",
      "metadata": {
        "id": "Tmc3ypLKI_aB"
      },
      "source": [
        "# fit models\n",
        "for name, m in models.items():\n",
        "  m.fit(X_train, y_train)"
      ],
      "execution_count": 12,
      "outputs": []
    },
    {
      "cell_type": "code",
      "metadata": {
        "id": "6A3LXinIJEAr"
      },
      "source": [
        "# coefficients dictionary\n",
        "coeffs = {}\n",
        "for name, m in models.items():\n",
        "  try:\n",
        "    coeffs[name] = m.coef_.tolist()[0] # NOTE: first two coeffs are for race, age\n",
        "  except (AttributeError):\n",
        "    continue"
      ],
      "execution_count": 52,
      "outputs": []
    },
    {
      "cell_type": "code",
      "metadata": {
        "colab": {
          "base_uri": "https://localhost:8080/"
        },
        "id": "KyPXJyKCHQVh",
        "outputId": "4c665cf2-afb6-40f6-ec76-f0b797dece58"
      },
      "source": [
        "print(coeffs.keys())"
      ],
      "execution_count": 53,
      "outputs": [
        {
          "output_type": "stream",
          "name": "stdout",
          "text": [
            "dict_keys(['Logistic Regression', 'Ridge Regression'])\n"
          ]
        }
      ]
    },
    {
      "cell_type": "code",
      "metadata": {
        "id": "n6X9RZSANvar"
      },
      "source": [
        "# write coefficient arrays to csv\n",
        "import csv\n",
        "\n",
        "OUTPUT = \"data/coefficients.csv\"\n",
        "\n",
        "with open(OUTPUT, 'w') as csvfile:\n",
        "  csvWriter = csv.writer(csvfile)\n",
        "  \n",
        "  # header\n",
        "  header = [\"model\", \"race\", \"age\"]\n",
        "  for i in range(68):\n",
        "    header.append('x' + str(i))\n",
        "    header.append('y' + str(i))\n",
        "  csvWriter.writerow(header)\n",
        "\n",
        "  # store coefficients\n",
        "  for name, coeff_arr in coeffs.items():\n",
        "    row = [name]\n",
        "    for c in coeff_arr:\n",
        "      row.append(c)\n",
        "    csvWriter.writerow(row)"
      ],
      "execution_count": 55,
      "outputs": []
    }
  ]
}