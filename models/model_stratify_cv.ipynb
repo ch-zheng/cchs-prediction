{
 "cells": [
  {
   "cell_type": "markdown",
   "metadata": {},
   "source": [
    "## preprocessing"
   ]
  },
  {
   "cell_type": "code",
   "execution_count": 1,
   "metadata": {},
   "outputs": [],
   "source": [
    "## Import models\n",
    "from sklearn.tree import DecisionTreeClassifier\n",
    "from sklearn.linear_model import LogisticRegression\n",
    "from sklearn.linear_model import Lasso\n",
    "from sklearn.preprocessing import PolynomialFeatures\n",
    "from sklearn.linear_model import LinearRegression\n",
    "from sklearn.linear_model import RidgeClassifier\n",
    "from sklearn import neighbors\n",
    "from sklearn import svm\n",
    "from sklearn.naive_bayes import GaussianNB\n",
    "from sklearn.neural_network import MLPClassifier\n",
    "# other libraries\n",
    "import numpy as np\n",
    "from sklearn.model_selection import cross_val_score\n",
    "from pathlib import Path"
   ]
  },
  {
   "cell_type": "code",
   "execution_count": 2,
   "metadata": {},
   "outputs": [],
   "source": [
    "class data_frame():\n",
    "    def __init__(self, folder_path):\n",
    "        self.X_train = np.load(os.path.join(folder_path, 'train/samples.npy'))\n",
    "        self.X_test = np.load(os.path.join(folder_path, 'train/labels.npy'))\n",
    "        self.y_train = np.load(os.path.join(folder_path, 'test/samples.npy'))\n",
    "        self.y_test = np.load(os.path.join(folder_path, 'test/labels.npy'))"
   ]
  },
  {
   "cell_type": "code",
   "execution_count": null,
   "metadata": {},
   "outputs": [],
   "source": [
    "data = []\n",
    "src = \"../data/stratify_people\"\n",
    "k = 10 # 8-fold; last two are reserved for test set so test set is 20% of dataset\n",
    "for i in range(0, k):\n",
    "    data.append(data_frame(os.path.join(src, str(i))))"
   ]
  },
  {
   "cell_type": "code",
   "execution_count": null,
   "metadata": {},
   "outputs": [],
   "source": [
    "# TODO\n",
    "## train model 10 times (partition into 12 groups, 10-fold cv)\n",
    "## validate using kth fold as validation set \n",
    "## evaluate accuracy, add to scores = []\n",
    "## mean(scores) = avg_accuracy"
   ]
  }
 ],
 "metadata": {
  "interpreter": {
   "hash": "cb780d572e831aa1c7a964aa13cce9a81c201b20bea2761400e5c772d1b04f6b"
  },
  "kernelspec": {
   "display_name": "Python 3 (ipykernel)",
   "language": "python",
   "name": "python3"
  },
  "language_info": {
   "codemirror_mode": {
    "name": "ipython",
    "version": 3
   },
   "file_extension": ".py",
   "mimetype": "text/x-python",
   "name": "python",
   "nbconvert_exporter": "python",
   "pygments_lexer": "ipython3",
   "version": "3.9.7"
  }
 },
 "nbformat": 4,
 "nbformat_minor": 2
}
