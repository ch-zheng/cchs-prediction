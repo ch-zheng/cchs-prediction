{
 "cells": [
  {
   "cell_type": "markdown",
   "source": [
    "## preprocessing"
   ],
   "metadata": {}
  },
  {
   "cell_type": "code",
   "execution_count": 1,
   "source": [
    "## Import models\r\n",
    "from sklearn.tree import DecisionTreeClassifier\r\n",
    "from sklearn.linear_model import LogisticRegression\r\n",
    "from sklearn.linear_model import Lasso\r\n",
    "from sklearn.preprocessing import PolynomialFeatures\r\n",
    "from sklearn.linear_model import LinearRegression\r\n",
    "from sklearn.linear_model import RidgeClassifier\r\n",
    "from sklearn import neighbors\r\n",
    "from sklearn import svm\r\n",
    "from sklearn.naive_bayes import GaussianNB\r\n",
    "from sklearn.neural_network import MLPClassifier\r\n",
    "# other libraries\r\n",
    "import numpy as np\r\n",
    "from sklearn.model_selection import cross_val_score\r\n",
    "from pathlib import Path"
   ],
   "outputs": [],
   "metadata": {}
  },
  {
   "cell_type": "code",
   "execution_count": 2,
   "source": [
    "class data_frame():\r\n",
    "    def __init__(self, folder_path):\r\n",
    "        self.X_train = np.load(os.path.join(folder_path, 'train/samples.npy'))\r\n",
    "        self.X_test = np.load(os.path.join(folder_path, 'train/labels.npy'))\r\n",
    "        self.y_train = np.load(os.path.join(folder_path, 'test/samples.npy'))\r\n",
    "        self.y_test = np.load(os.path.join(folder_path, 'test/labels.npy'))"
   ],
   "outputs": [],
   "metadata": {}
  },
  {
   "cell_type": "code",
   "execution_count": null,
   "source": [
    "data = []\r\n",
    "src = \"../data/stratify_people\"\r\n",
    "k = 10 # 8-fold; last two are reserved for test set so test set is 20% of dataset\r\n",
    "for i in range(0, k):\r\n",
    "    data.append(data_frame(os.path.join(src, str(i))))"
   ],
   "outputs": [],
   "metadata": {}
  },
  {
   "cell_type": "code",
   "execution_count": null,
   "source": [
    "# TODO\r\n",
    "## train model 10 times (partition into 12 groups, 10-fold cv)\r\n",
    "## validate using kth fold as validation set \r\n",
    "## evaluate accuracy, add to scores = []\r\n",
    "## mean(scores) = avg_accuracy"
   ],
   "outputs": [],
   "metadata": {}
  }
 ],
 "metadata": {
  "orig_nbformat": 4,
  "language_info": {
   "name": "python",
   "version": "3.9.6",
   "mimetype": "text/x-python",
   "codemirror_mode": {
    "name": "ipython",
    "version": 3
   },
   "pygments_lexer": "ipython3",
   "nbconvert_exporter": "python",
   "file_extension": ".py"
  },
  "kernelspec": {
   "name": "python3",
   "display_name": "Python 3.9.6 64-bit"
  },
  "interpreter": {
   "hash": "cb780d572e831aa1c7a964aa13cce9a81c201b20bea2761400e5c772d1b04f6b"
  }
 },
 "nbformat": 4,
 "nbformat_minor": 2
}