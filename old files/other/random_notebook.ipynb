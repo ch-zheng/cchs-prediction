{
 "cells": [
  {
   "cell_type": "markdown",
   "source": [
    "# Preprocessing"
   ],
   "metadata": {}
  },
  {
   "cell_type": "code",
   "execution_count": 7,
   "source": [
    "## Import models\r\n",
    "from sklearn.tree import DecisionTreeClassifier\r\n",
    "from sklearn.linear_model import LogisticRegression\r\n",
    "from sklearn.linear_model import Lasso\r\n",
    "from sklearn.preprocessing import PolynomialFeatures\r\n",
    "from sklearn.linear_model import LinearRegression\r\n",
    "from sklearn.linear_model import RidgeClassifier\r\n",
    "from sklearn import neighbors\r\n",
    "from sklearn import svm\r\n",
    "from sklearn.naive_bayes import GaussianNB\r\n",
    "# other libraries\r\n",
    "import numpy as np\r\n",
    "from sklearn.model_selection import cross_val_score\r\n",
    "from pathlib import Path\r\n",
    "from sklearn.model_selection import train_test_split\r\n",
    "from sklearn.tree import plot_tree"
   ],
   "outputs": [],
   "metadata": {}
  },
  {
   "cell_type": "code",
   "execution_count": 2,
   "source": [
    "## Load data\r\n",
    "X = np.load('data/phase1/samples.npy')\r\n",
    "y = np.load('data/phase1/labels.npy')\r\n",
    "X_train, X_test, y_train, y_test = train_test_split(X, y, test_size=0.10, stratify=y)"
   ],
   "outputs": [],
   "metadata": {}
  },
  {
   "cell_type": "markdown",
   "source": [
    "# Tree"
   ],
   "metadata": {}
  },
  {
   "cell_type": "code",
   "execution_count": 3,
   "source": [
    "## Instantiate model\r\n",
    "clf = DecisionTreeClassifier(criterion='entropy', max_depth=4, max_features=55, max_leaf_nodes=28, min_impurity_decrease=0, min_samples_leaf=2)"
   ],
   "outputs": [],
   "metadata": {}
  },
  {
   "cell_type": "code",
   "execution_count": 4,
   "source": [
    "## Train the model\r\n",
    "clf.fit(X_train, y_train)"
   ],
   "outputs": [
    {
     "output_type": "execute_result",
     "data": {
      "text/plain": [
       "DecisionTreeClassifier(criterion='entropy', max_depth=4, max_features=55,\n",
       "                       max_leaf_nodes=28, min_impurity_decrease=0,\n",
       "                       min_samples_leaf=2)"
      ]
     },
     "metadata": {},
     "execution_count": 4
    }
   ],
   "metadata": {}
  },
  {
   "cell_type": "code",
   "execution_count": 5,
   "source": [
    "clf.predict(X_test)"
   ],
   "outputs": [
    {
     "output_type": "execute_result",
     "data": {
      "text/plain": [
       "array([0., 0., 0., 0., 0., 0., 0., 0., 0., 1., 0., 0., 0., 0., 0., 1., 0.,\n",
       "       0., 0., 0., 0., 0., 0., 0., 1., 0., 0., 0., 1., 0., 0., 0., 0., 0.,\n",
       "       0., 0., 1., 0., 0., 0., 1., 1., 0., 0., 0., 0., 0., 0., 0., 0., 1.,\n",
       "       1., 0., 1., 1., 0., 0., 0., 0., 0., 0., 0., 0., 1., 1., 0., 0., 0.,\n",
       "       0., 1., 0., 0., 0., 0., 0., 0., 0., 0., 1., 0., 0., 0., 0., 0., 0.,\n",
       "       0., 1., 0., 1., 0., 0., 0., 1., 0., 0., 0., 1., 0., 0., 0., 0., 0.,\n",
       "       0., 1., 1., 0., 0., 0., 0., 1., 0., 0., 0., 0., 1., 0., 0., 0., 0.,\n",
       "       0., 1., 1., 0., 0., 1., 1., 0., 1., 0., 0., 0., 0., 1., 0., 0., 0.,\n",
       "       0., 0., 1., 0., 0., 0., 0., 0., 0., 0., 0., 0., 0., 0., 1., 1., 0.,\n",
       "       0., 0., 1., 1., 1., 1., 0., 0., 0., 0., 0., 0., 1., 0., 1., 0., 0.,\n",
       "       1., 0., 0., 0., 0., 0., 0., 0., 0., 1., 1., 1., 0., 0., 0., 1., 0.,\n",
       "       1., 0., 1., 0., 0., 1., 1., 0., 0., 1., 0., 0., 0., 0., 0., 0., 0.,\n",
       "       0., 0., 1., 0., 0., 0., 0., 0., 0., 0., 0., 0., 0., 0., 0., 0., 0.,\n",
       "       0., 0., 1., 1., 0., 0., 0., 0., 0., 0., 0., 0., 1., 1., 0., 0., 0.,\n",
       "       0., 0., 1., 1., 0., 0., 0., 0., 1., 0., 0., 0., 0., 0., 1., 0., 1.,\n",
       "       1., 1., 0., 0., 1., 0., 0., 0., 1., 0., 0., 0., 0., 0., 0., 0., 0.,\n",
       "       1., 0., 0., 0., 0., 1., 0., 0., 0., 0., 1., 1., 0., 0., 1., 0., 0.,\n",
       "       0., 0., 0., 0., 1., 1.], dtype=float32)"
      ]
     },
     "metadata": {},
     "execution_count": 5
    }
   ],
   "metadata": {}
  },
  {
   "cell_type": "code",
   "execution_count": 8,
   "source": [
    "import matplotlib as plt\r\n",
    "\r\n",
    "features = ['race', 'age']\r\n",
    "for i in range(68):\r\n",
    "    features.append('x' + str(i))\r\n",
    "    features.append('y' + str(i))\r\n",
    "\r\n",
    "label_names = ['cchs', 'control']\r\n",
    "\r\n",
    "fig, axes = plt.subplots(nrows=1, ncols=1, figsize=(4,4), dpi=300)\r\n",
    "\r\n",
    "plot_tree(clf, feature_names=features, class_names=label_names, filled=True)"
   ],
   "outputs": [
    {
     "output_type": "execute_result",
     "data": {
      "text/plain": [
       "[Text(167.4, 195.696, 'X[45] <= 0.4\\nentropy = 0.836\\nsamples = 2650\\nvalue = [1945, 705]'),\n",
       " Text(83.7, 152.208, 'X[93] <= 0.582\\nentropy = 0.931\\nsamples = 1481\\nvalue = [967, 514]'),\n",
       " Text(41.85, 108.72, 'X[117] <= 0.566\\nentropy = 0.736\\nsamples = 691\\nvalue = [548, 143]'),\n",
       " Text(20.925, 65.232, 'X[25] <= 0.12\\nentropy = 0.917\\nsamples = 250\\nvalue = [167, 83]'),\n",
       " Text(10.4625, 21.744, 'entropy = 0.807\\nsamples = 190\\nvalue = [143, 47]'),\n",
       " Text(31.387500000000003, 21.744, 'entropy = 0.971\\nsamples = 60\\nvalue = [24, 36]'),\n",
       " Text(62.775000000000006, 65.232, 'X[1] <= 6.5\\nentropy = 0.574\\nsamples = 441\\nvalue = [381, 60]'),\n",
       " Text(52.3125, 21.744, 'entropy = 0.514\\nsamples = 419\\nvalue = [371, 48]'),\n",
       " Text(73.2375, 21.744, 'entropy = 0.994\\nsamples = 22\\nvalue = [10, 12]'),\n",
       " Text(125.55000000000001, 108.72, 'X[116] <= 0.436\\nentropy = 0.997\\nsamples = 790\\nvalue = [419, 371]'),\n",
       " Text(104.625, 65.232, 'X[89] <= 0.494\\nentropy = 0.762\\nsamples = 172\\nvalue = [134, 38]'),\n",
       " Text(94.16250000000001, 21.744, 'entropy = 0.863\\nsamples = 14\\nvalue = [4, 10]'),\n",
       " Text(115.0875, 21.744, 'entropy = 0.674\\nsamples = 158\\nvalue = [130, 28]'),\n",
       " Text(146.475, 65.232, 'X[117] <= 0.68\\nentropy = 0.996\\nsamples = 618\\nvalue = [285, 333]'),\n",
       " Text(136.01250000000002, 21.744, 'entropy = 0.981\\nsamples = 561\\nvalue = [235, 326]'),\n",
       " Text(156.9375, 21.744, 'entropy = 0.537\\nsamples = 57\\nvalue = [50, 7]'),\n",
       " Text(251.10000000000002, 152.208, 'X[113] <= 0.646\\nentropy = 0.642\\nsamples = 1169\\nvalue = [978, 191]'),\n",
       " Text(209.25, 108.72, 'X[43] <= 0.345\\nentropy = 0.477\\nsamples = 731\\nvalue = [656, 75]'),\n",
       " Text(188.32500000000002, 65.232, 'X[104] <= 0.298\\nentropy = 0.643\\nsamples = 397\\nvalue = [332, 65]'),\n",
       " Text(177.8625, 21.744, 'entropy = 0.229\\nsamples = 108\\nvalue = [104, 4]'),\n",
       " Text(198.7875, 21.744, 'entropy = 0.744\\nsamples = 289\\nvalue = [228, 61]'),\n",
       " Text(230.175, 65.232, 'X[92] <= 0.72\\nentropy = 0.194\\nsamples = 334\\nvalue = [324, 10]'),\n",
       " Text(219.7125, 21.744, 'entropy = 0.345\\nsamples = 155\\nvalue = [145, 10]'),\n",
       " Text(240.63750000000002, 21.744, 'entropy = 0.0\\nsamples = 179\\nvalue = [179, 0]'),\n",
       " Text(292.95, 108.72, 'X[16] <= 0.642\\nentropy = 0.834\\nsamples = 438\\nvalue = [322, 116]'),\n",
       " Text(272.02500000000003, 65.232, 'X[105] <= 0.606\\nentropy = 0.387\\nsamples = 145\\nvalue = [134, 11]'),\n",
       " Text(261.5625, 21.744, 'entropy = 0.0\\nsamples = 60\\nvalue = [60, 0]'),\n",
       " Text(282.4875, 21.744, 'entropy = 0.556\\nsamples = 85\\nvalue = [74, 11]'),\n",
       " Text(313.875, 65.232, 'X[119] <= 0.686\\nentropy = 0.941\\nsamples = 293\\nvalue = [188, 105]'),\n",
       " Text(303.4125, 21.744, 'entropy = 0.999\\nsamples = 178\\nvalue = [93, 85]'),\n",
       " Text(324.33750000000003, 21.744, 'entropy = 0.667\\nsamples = 115\\nvalue = [95, 20]')]"
      ]
     },
     "metadata": {},
     "execution_count": 8
    },
    {
     "output_type": "display_data",
     "data": {
      "image/png": "[encoded data removed]",
      "text/plain": [
       "<Figure size 432x288 with 1 Axes>"
      ]
     },
     "metadata": {
      "needs_background": "light"
     }
    }
   ],
   "metadata": {}
  },
  {
   "cell_type": "markdown",
   "source": [
    "# Imbalanced dataset"
   ],
   "metadata": {}
  },
  {
   "cell_type": "code",
   "execution_count": 15,
   "source": [
    "import pandas as pd \r\n",
    "from sklearn.linear_model import LogisticRegression\r\n",
    "from sklearn.model_selection import train_test_split, cross_val_score\r\n",
    "from sklearn.metrics import confusion_matrix, classification_report\r\n",
    "import numpy as np\r\n",
    "from sklearn import metrics\r\n",
    "from imblearn.over_sampling import SMOTE\r\n",
    "import torch"
   ],
   "outputs": [],
   "metadata": {}
  },
  {
   "cell_type": "code",
   "execution_count": 2,
   "source": [
    "X = torch.from_numpy(np.load('data/phase1/samples.npy'))\r\n",
    "y = torch.from_numpy(np.load('data/phase1/labels.npy'))\r\n",
    "X_train, X_test, y_train, y_test = train_test_split(X, y, test_size=0.10, stratify=y)"
   ],
   "outputs": [],
   "metadata": {}
  },
  {
   "cell_type": "code",
   "execution_count": 5,
   "source": [
    "print(\"Count of 1 class in training set before upsampling :\" ,format(sum(y_train==1))) # cchs\r\n",
    "print(\"Count of 0 class in training set before upsampling :\",format(sum(y_train==0))) # control"
   ],
   "outputs": [
    {
     "output_type": "stream",
     "name": "stdout",
     "text": [
      "Count of 1 class in training set before upsampling : 705\n",
      "Count of 0 class in training set before upsampling : 1945\n"
     ]
    }
   ],
   "metadata": {}
  },
  {
   "cell_type": "code",
   "execution_count": 16,
   "source": [
    "model = LogisticRegression(C=0.001, penalty='none', solver='newton-cg')\r\n",
    "model.fit(X_train, y_train)\r\n",
    "y_pred = model.predict(X_test)\r\n",
    "print(model.score(X_test, y_test))\r\n",
    "print(confusion_matrix(y_test, y_pred))\r\n",
    "print(classification_report(y_test, y_pred))"
   ],
   "outputs": [
    {
     "output_type": "stream",
     "name": "stderr",
     "text": [
      "C:\\Users\\Joker\\AppData\\Local\\Programs\\Python\\Python39\\lib\\site-packages\\sklearn\\linear_model\\_logistic.py:1322: UserWarning: Setting penalty='none' will ignore the C and l1_ratio parameters\n",
      "  warnings.warn(\n"
     ]
    },
    {
     "output_type": "stream",
     "name": "stdout",
     "text": [
      "0.9152542372881356\n",
      "[[207   9]\n",
      " [ 16  63]]\n",
      "              precision    recall  f1-score   support\n",
      "\n",
      "         0.0       0.93      0.96      0.94       216\n",
      "         1.0       0.88      0.80      0.83        79\n",
      "\n",
      "    accuracy                           0.92       295\n",
      "   macro avg       0.90      0.88      0.89       295\n",
      "weighted avg       0.91      0.92      0.91       295\n",
      "\n"
     ]
    }
   ],
   "metadata": {}
  },
  {
   "cell_type": "code",
   "execution_count": 12,
   "source": [
    "smote = SMOTE(sampling_strategy = 1 ,k_neighbors = 3, random_state=1)   \r\n",
    "\r\n",
    "X_train_new, y_train_new = smote.fit_resample(X_train, y_train.ravel())\r\n",
    "\r\n",
    "print(\"Count of 1 class in training set after upsampling  :\" ,(sum(y_train_new==1)))\r\n",
    "\r\n",
    "print(\"Count of 0 class in training set after upsampling  :\",(sum(y_train_new==0)))"
   ],
   "outputs": [
    {
     "output_type": "stream",
     "name": "stdout",
     "text": [
      "Count of 1 class in training set after upsampling  : 1945\n",
      "Count of 0 class in training set after upsampling  : 1945\n"
     ]
    }
   ],
   "metadata": {}
  },
  {
   "cell_type": "code",
   "execution_count": 17,
   "source": [
    "model = LogisticRegression(C=0.001, penalty='none', solver='newton-cg')\r\n",
    "model.fit(X_train_new, y_train_new)\r\n",
    "y_pred = model.predict(X_test)\r\n",
    "print(model.score(X_test, y_test))\r\n",
    "print(confusion_matrix(y_test, y_pred))\r\n",
    "print(classification_report(y_test, y_pred))"
   ],
   "outputs": [
    {
     "output_type": "stream",
     "name": "stderr",
     "text": [
      "C:\\Users\\Joker\\AppData\\Local\\Programs\\Python\\Python39\\lib\\site-packages\\sklearn\\linear_model\\_logistic.py:1322: UserWarning: Setting penalty='none' will ignore the C and l1_ratio parameters\n",
      "  warnings.warn(\n"
     ]
    },
    {
     "output_type": "stream",
     "name": "stdout",
     "text": [
      "0.9050847457627119\n",
      "[[194  22]\n",
      " [  6  73]]\n",
      "              precision    recall  f1-score   support\n",
      "\n",
      "         0.0       0.97      0.90      0.93       216\n",
      "         1.0       0.77      0.92      0.84        79\n",
      "\n",
      "    accuracy                           0.91       295\n",
      "   macro avg       0.87      0.91      0.89       295\n",
      "weighted avg       0.92      0.91      0.91       295\n",
      "\n"
     ]
    },
    {
     "output_type": "stream",
     "name": "stderr",
     "text": [
      "C:\\Users\\Joker\\AppData\\Local\\Programs\\Python\\Python39\\lib\\site-packages\\scipy\\optimize\\linesearch.py:327: LineSearchWarning: The line search algorithm did not converge\n",
      "  warn('The line search algorithm did not converge', LineSearchWarning)\n",
      "C:\\Users\\Joker\\AppData\\Local\\Programs\\Python\\Python39\\lib\\site-packages\\sklearn\\utils\\optimize.py:195: UserWarning: Line Search failed\n",
      "  warnings.warn('Line Search failed')\n"
     ]
    }
   ],
   "metadata": {}
  }
 ],
 "metadata": {
  "orig_nbformat": 4,
  "language_info": {
   "name": "python",
   "version": "3.9.6",
   "mimetype": "text/x-python",
   "codemirror_mode": {
    "name": "ipython",
    "version": 3
   },
   "pygments_lexer": "ipython3",
   "nbconvert_exporter": "python",
   "file_extension": ".py"
  },
  "kernelspec": {
   "name": "python3",
   "display_name": "Python 3.9.6 64-bit"
  },
  "interpreter": {
   "hash": "cb780d572e831aa1c7a964aa13cce9a81c201b20bea2761400e5c772d1b04f6b"
  }
 },
 "nbformat": 4,
 "nbformat_minor": 2
}