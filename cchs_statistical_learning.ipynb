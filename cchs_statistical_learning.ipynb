{
  "nbformat": 4,
  "nbformat_minor": 0,
  "metadata": {
    "orig_nbformat": 4,
    "language_info": {
      "name": "python",
      "version": "3.9.6",
      "mimetype": "text/x-python",
      "codemirror_mode": {
        "name": "ipython",
        "version": 3
      },
      "pygments_lexer": "ipython3",
      "nbconvert_exporter": "python",
      "file_extension": ".py"
    },
    "kernelspec": {
      "name": "python3",
      "display_name": "Python 3.9.6 64-bit"
    },
    "interpreter": {
      "hash": "cb780d572e831aa1c7a964aa13cce9a81c201b20bea2761400e5c772d1b04f6b"
    },
    "colab": {
      "name": "cchs_statistical_learning.ipynb",
      "provenance": [],
      "collapsed_sections": [
        "0DdGJqIGk7Q1"
      ]
    }
  },
  "cells": [
    {
      "cell_type": "markdown",
      "metadata": {
        "id": "lWhM2vwVucoT"
      },
      "source": [
        "## **Load data**"
      ]
    },
    {
      "cell_type": "markdown",
      "metadata": {
        "id": "0DdGJqIGk7Q1"
      },
      "source": [
        "### **Import libraries**"
      ]
    },
    {
      "cell_type": "code",
      "metadata": {
        "id": "sj98TdfTkzID"
      },
      "source": [
        "# import\n",
        "import pandas as pd\n",
        "import numpy as np\n",
        "import matplotlib.pyplot as plt\n",
        "import seaborn as sns\n",
        "%matplotlib inline"
      ],
      "execution_count": 1,
      "outputs": []
    },
    {
      "cell_type": "markdown",
      "metadata": {
        "id": "0VNTdnCElMS3"
      },
      "source": [
        "### **Import dataset**"
      ]
    },
    {
      "cell_type": "code",
      "metadata": {
        "id": "kzR8j4ZtlLAP"
      },
      "source": [
        "dataset = pd.read_csv('samples.csv')"
      ],
      "execution_count": 2,
      "outputs": []
    },
    {
      "cell_type": "markdown",
      "metadata": {
        "id": "abSy0PLGlUVI"
      },
      "source": [
        "### **View the dataset**"
      ]
    },
    {
      "cell_type": "code",
      "metadata": {
        "colab": {
          "base_uri": "https://localhost:8080/"
        },
        "id": "IBvU5j7gk4v9",
        "outputId": "6e3728a1-b9e2-409e-8708-9497d3465687"
      },
      "source": [
        "dataset.shape"
      ],
      "execution_count": 3,
      "outputs": [
        {
          "output_type": "execute_result",
          "data": {
            "text/plain": [
              "(2429, 140)"
            ]
          },
          "metadata": {},
          "execution_count": 3
        }
      ]
    },
    {
      "cell_type": "code",
      "metadata": {
        "colab": {
          "base_uri": "https://localhost:8080/",
          "height": 0
        },
        "id": "IhQgwYg2ldIo",
        "outputId": "8b042399-dac1-4c8a-f28c-48a1808c82c8"
      },
      "source": [
        "dataset.head()"
      ],
      "execution_count": 4,
      "outputs": [
        {
          "output_type": "execute_result",
          "data": {
            "text/html": [
              "<div>\n",
              "<style scoped>\n",
              "    .dataframe tbody tr th:only-of-type {\n",
              "        vertical-align: middle;\n",
              "    }\n",
              "\n",
              "    .dataframe tbody tr th {\n",
              "        vertical-align: top;\n",
              "    }\n",
              "\n",
              "    .dataframe thead th {\n",
              "        text-align: right;\n",
              "    }\n",
              "</style>\n",
              "<table border=\"1\" class=\"dataframe\">\n",
              "  <thead>\n",
              "    <tr style=\"text-align: right;\">\n",
              "      <th></th>\n",
              "      <th>filename</th>\n",
              "      <th>group</th>\n",
              "      <th>race</th>\n",
              "      <th>age</th>\n",
              "      <th>x0</th>\n",
              "      <th>y0</th>\n",
              "      <th>x1</th>\n",
              "      <th>y1</th>\n",
              "      <th>x2</th>\n",
              "      <th>y2</th>\n",
              "      <th>x3</th>\n",
              "      <th>y3</th>\n",
              "      <th>x4</th>\n",
              "      <th>y4</th>\n",
              "      <th>x5</th>\n",
              "      <th>y5</th>\n",
              "      <th>x6</th>\n",
              "      <th>y6</th>\n",
              "      <th>x7</th>\n",
              "      <th>y7</th>\n",
              "      <th>x8</th>\n",
              "      <th>y8</th>\n",
              "      <th>x9</th>\n",
              "      <th>y9</th>\n",
              "      <th>x10</th>\n",
              "      <th>y10</th>\n",
              "      <th>x11</th>\n",
              "      <th>y11</th>\n",
              "      <th>x12</th>\n",
              "      <th>y12</th>\n",
              "      <th>x13</th>\n",
              "      <th>y13</th>\n",
              "      <th>x14</th>\n",
              "      <th>y14</th>\n",
              "      <th>x15</th>\n",
              "      <th>y15</th>\n",
              "      <th>x16</th>\n",
              "      <th>y16</th>\n",
              "      <th>x17</th>\n",
              "      <th>y17</th>\n",
              "      <th>...</th>\n",
              "      <th>x48</th>\n",
              "      <th>y48</th>\n",
              "      <th>x49</th>\n",
              "      <th>y49</th>\n",
              "      <th>x50</th>\n",
              "      <th>y50</th>\n",
              "      <th>x51</th>\n",
              "      <th>y51</th>\n",
              "      <th>x52</th>\n",
              "      <th>y52</th>\n",
              "      <th>x53</th>\n",
              "      <th>y53</th>\n",
              "      <th>x54</th>\n",
              "      <th>y54</th>\n",
              "      <th>x55</th>\n",
              "      <th>y55</th>\n",
              "      <th>x56</th>\n",
              "      <th>y56</th>\n",
              "      <th>x57</th>\n",
              "      <th>y57</th>\n",
              "      <th>x58</th>\n",
              "      <th>y58</th>\n",
              "      <th>x59</th>\n",
              "      <th>y59</th>\n",
              "      <th>x60</th>\n",
              "      <th>y60</th>\n",
              "      <th>x61</th>\n",
              "      <th>y61</th>\n",
              "      <th>x62</th>\n",
              "      <th>y62</th>\n",
              "      <th>x63</th>\n",
              "      <th>y63</th>\n",
              "      <th>x64</th>\n",
              "      <th>y64</th>\n",
              "      <th>x65</th>\n",
              "      <th>y65</th>\n",
              "      <th>x66</th>\n",
              "      <th>y66</th>\n",
              "      <th>x67</th>\n",
              "      <th>y67</th>\n",
              "    </tr>\n",
              "  </thead>\n",
              "  <tbody>\n",
              "    <tr>\n",
              "      <th>0</th>\n",
              "      <td>pictures/control/black/0-1/1_1_1_2017010919471...</td>\n",
              "      <td>control</td>\n",
              "      <td>black</td>\n",
              "      <td>0-1</td>\n",
              "      <td>47</td>\n",
              "      <td>127</td>\n",
              "      <td>50</td>\n",
              "      <td>143</td>\n",
              "      <td>53</td>\n",
              "      <td>158</td>\n",
              "      <td>56</td>\n",
              "      <td>174</td>\n",
              "      <td>63</td>\n",
              "      <td>188</td>\n",
              "      <td>75</td>\n",
              "      <td>198</td>\n",
              "      <td>91</td>\n",
              "      <td>206</td>\n",
              "      <td>108</td>\n",
              "      <td>212</td>\n",
              "      <td>125</td>\n",
              "      <td>214</td>\n",
              "      <td>143</td>\n",
              "      <td>213</td>\n",
              "      <td>159</td>\n",
              "      <td>206</td>\n",
              "      <td>174</td>\n",
              "      <td>198</td>\n",
              "      <td>185</td>\n",
              "      <td>187</td>\n",
              "      <td>191</td>\n",
              "      <td>173</td>\n",
              "      <td>195</td>\n",
              "      <td>158</td>\n",
              "      <td>198</td>\n",
              "      <td>142</td>\n",
              "      <td>200</td>\n",
              "      <td>127</td>\n",
              "      <td>63</td>\n",
              "      <td>110</td>\n",
              "      <td>...</td>\n",
              "      <td>102</td>\n",
              "      <td>172</td>\n",
              "      <td>114</td>\n",
              "      <td>168</td>\n",
              "      <td>124</td>\n",
              "      <td>165</td>\n",
              "      <td>129</td>\n",
              "      <td>166</td>\n",
              "      <td>134</td>\n",
              "      <td>165</td>\n",
              "      <td>143</td>\n",
              "      <td>167</td>\n",
              "      <td>155</td>\n",
              "      <td>172</td>\n",
              "      <td>143</td>\n",
              "      <td>176</td>\n",
              "      <td>135</td>\n",
              "      <td>176</td>\n",
              "      <td>129</td>\n",
              "      <td>176</td>\n",
              "      <td>124</td>\n",
              "      <td>177</td>\n",
              "      <td>114</td>\n",
              "      <td>176</td>\n",
              "      <td>106</td>\n",
              "      <td>172</td>\n",
              "      <td>124</td>\n",
              "      <td>171</td>\n",
              "      <td>129</td>\n",
              "      <td>171</td>\n",
              "      <td>134</td>\n",
              "      <td>171</td>\n",
              "      <td>150</td>\n",
              "      <td>172</td>\n",
              "      <td>134</td>\n",
              "      <td>172</td>\n",
              "      <td>129</td>\n",
              "      <td>172</td>\n",
              "      <td>124</td>\n",
              "      <td>172</td>\n",
              "    </tr>\n",
              "    <tr>\n",
              "      <th>1</th>\n",
              "      <td>pictures/control/black/0-1/1_1_1_2017010919461...</td>\n",
              "      <td>control</td>\n",
              "      <td>black</td>\n",
              "      <td>0-1</td>\n",
              "      <td>66</td>\n",
              "      <td>116</td>\n",
              "      <td>69</td>\n",
              "      <td>132</td>\n",
              "      <td>72</td>\n",
              "      <td>147</td>\n",
              "      <td>77</td>\n",
              "      <td>161</td>\n",
              "      <td>85</td>\n",
              "      <td>174</td>\n",
              "      <td>97</td>\n",
              "      <td>183</td>\n",
              "      <td>111</td>\n",
              "      <td>189</td>\n",
              "      <td>124</td>\n",
              "      <td>193</td>\n",
              "      <td>136</td>\n",
              "      <td>194</td>\n",
              "      <td>148</td>\n",
              "      <td>190</td>\n",
              "      <td>159</td>\n",
              "      <td>183</td>\n",
              "      <td>171</td>\n",
              "      <td>175</td>\n",
              "      <td>180</td>\n",
              "      <td>164</td>\n",
              "      <td>186</td>\n",
              "      <td>151</td>\n",
              "      <td>188</td>\n",
              "      <td>137</td>\n",
              "      <td>190</td>\n",
              "      <td>122</td>\n",
              "      <td>191</td>\n",
              "      <td>106</td>\n",
              "      <td>73</td>\n",
              "      <td>113</td>\n",
              "      <td>...</td>\n",
              "      <td>111</td>\n",
              "      <td>171</td>\n",
              "      <td>120</td>\n",
              "      <td>168</td>\n",
              "      <td>127</td>\n",
              "      <td>165</td>\n",
              "      <td>132</td>\n",
              "      <td>166</td>\n",
              "      <td>137</td>\n",
              "      <td>164</td>\n",
              "      <td>145</td>\n",
              "      <td>166</td>\n",
              "      <td>155</td>\n",
              "      <td>167</td>\n",
              "      <td>146</td>\n",
              "      <td>173</td>\n",
              "      <td>139</td>\n",
              "      <td>176</td>\n",
              "      <td>134</td>\n",
              "      <td>177</td>\n",
              "      <td>128</td>\n",
              "      <td>177</td>\n",
              "      <td>121</td>\n",
              "      <td>175</td>\n",
              "      <td>115</td>\n",
              "      <td>171</td>\n",
              "      <td>127</td>\n",
              "      <td>169</td>\n",
              "      <td>133</td>\n",
              "      <td>169</td>\n",
              "      <td>138</td>\n",
              "      <td>168</td>\n",
              "      <td>151</td>\n",
              "      <td>167</td>\n",
              "      <td>138</td>\n",
              "      <td>169</td>\n",
              "      <td>133</td>\n",
              "      <td>170</td>\n",
              "      <td>128</td>\n",
              "      <td>170</td>\n",
              "    </tr>\n",
              "    <tr>\n",
              "      <th>2</th>\n",
              "      <td>pictures/control/black/0-1/1_0_1_2017011021283...</td>\n",
              "      <td>control</td>\n",
              "      <td>black</td>\n",
              "      <td>0-1</td>\n",
              "      <td>61</td>\n",
              "      <td>115</td>\n",
              "      <td>63</td>\n",
              "      <td>131</td>\n",
              "      <td>67</td>\n",
              "      <td>147</td>\n",
              "      <td>71</td>\n",
              "      <td>163</td>\n",
              "      <td>79</td>\n",
              "      <td>176</td>\n",
              "      <td>91</td>\n",
              "      <td>186</td>\n",
              "      <td>105</td>\n",
              "      <td>192</td>\n",
              "      <td>118</td>\n",
              "      <td>198</td>\n",
              "      <td>130</td>\n",
              "      <td>201</td>\n",
              "      <td>144</td>\n",
              "      <td>199</td>\n",
              "      <td>159</td>\n",
              "      <td>193</td>\n",
              "      <td>174</td>\n",
              "      <td>186</td>\n",
              "      <td>186</td>\n",
              "      <td>176</td>\n",
              "      <td>194</td>\n",
              "      <td>163</td>\n",
              "      <td>199</td>\n",
              "      <td>147</td>\n",
              "      <td>201</td>\n",
              "      <td>130</td>\n",
              "      <td>203</td>\n",
              "      <td>111</td>\n",
              "      <td>69</td>\n",
              "      <td>108</td>\n",
              "      <td>...</td>\n",
              "      <td>111</td>\n",
              "      <td>178</td>\n",
              "      <td>117</td>\n",
              "      <td>172</td>\n",
              "      <td>122</td>\n",
              "      <td>168</td>\n",
              "      <td>126</td>\n",
              "      <td>170</td>\n",
              "      <td>130</td>\n",
              "      <td>168</td>\n",
              "      <td>138</td>\n",
              "      <td>173</td>\n",
              "      <td>146</td>\n",
              "      <td>180</td>\n",
              "      <td>138</td>\n",
              "      <td>185</td>\n",
              "      <td>131</td>\n",
              "      <td>186</td>\n",
              "      <td>127</td>\n",
              "      <td>186</td>\n",
              "      <td>122</td>\n",
              "      <td>185</td>\n",
              "      <td>117</td>\n",
              "      <td>183</td>\n",
              "      <td>115</td>\n",
              "      <td>177</td>\n",
              "      <td>122</td>\n",
              "      <td>175</td>\n",
              "      <td>126</td>\n",
              "      <td>175</td>\n",
              "      <td>130</td>\n",
              "      <td>175</td>\n",
              "      <td>142</td>\n",
              "      <td>179</td>\n",
              "      <td>130</td>\n",
              "      <td>177</td>\n",
              "      <td>126</td>\n",
              "      <td>177</td>\n",
              "      <td>122</td>\n",
              "      <td>176</td>\n",
              "    </tr>\n",
              "    <tr>\n",
              "      <th>3</th>\n",
              "      <td>pictures/control/black/0-1/1_1_1_2017010919462...</td>\n",
              "      <td>control</td>\n",
              "      <td>black</td>\n",
              "      <td>0-1</td>\n",
              "      <td>62</td>\n",
              "      <td>116</td>\n",
              "      <td>65</td>\n",
              "      <td>131</td>\n",
              "      <td>69</td>\n",
              "      <td>146</td>\n",
              "      <td>74</td>\n",
              "      <td>160</td>\n",
              "      <td>81</td>\n",
              "      <td>172</td>\n",
              "      <td>92</td>\n",
              "      <td>181</td>\n",
              "      <td>104</td>\n",
              "      <td>188</td>\n",
              "      <td>116</td>\n",
              "      <td>194</td>\n",
              "      <td>129</td>\n",
              "      <td>196</td>\n",
              "      <td>141</td>\n",
              "      <td>195</td>\n",
              "      <td>152</td>\n",
              "      <td>189</td>\n",
              "      <td>163</td>\n",
              "      <td>182</td>\n",
              "      <td>173</td>\n",
              "      <td>172</td>\n",
              "      <td>180</td>\n",
              "      <td>160</td>\n",
              "      <td>184</td>\n",
              "      <td>146</td>\n",
              "      <td>188</td>\n",
              "      <td>132</td>\n",
              "      <td>189</td>\n",
              "      <td>116</td>\n",
              "      <td>73</td>\n",
              "      <td>107</td>\n",
              "      <td>...</td>\n",
              "      <td>110</td>\n",
              "      <td>171</td>\n",
              "      <td>118</td>\n",
              "      <td>168</td>\n",
              "      <td>125</td>\n",
              "      <td>165</td>\n",
              "      <td>129</td>\n",
              "      <td>166</td>\n",
              "      <td>133</td>\n",
              "      <td>165</td>\n",
              "      <td>140</td>\n",
              "      <td>168</td>\n",
              "      <td>148</td>\n",
              "      <td>171</td>\n",
              "      <td>140</td>\n",
              "      <td>176</td>\n",
              "      <td>134</td>\n",
              "      <td>178</td>\n",
              "      <td>129</td>\n",
              "      <td>178</td>\n",
              "      <td>125</td>\n",
              "      <td>177</td>\n",
              "      <td>118</td>\n",
              "      <td>175</td>\n",
              "      <td>114</td>\n",
              "      <td>171</td>\n",
              "      <td>125</td>\n",
              "      <td>170</td>\n",
              "      <td>129</td>\n",
              "      <td>170</td>\n",
              "      <td>133</td>\n",
              "      <td>170</td>\n",
              "      <td>144</td>\n",
              "      <td>171</td>\n",
              "      <td>133</td>\n",
              "      <td>170</td>\n",
              "      <td>129</td>\n",
              "      <td>171</td>\n",
              "      <td>125</td>\n",
              "      <td>170</td>\n",
              "    </tr>\n",
              "    <tr>\n",
              "      <th>4</th>\n",
              "      <td>pictures/control/black/0-1/1_1_1_2017010919124...</td>\n",
              "      <td>control</td>\n",
              "      <td>black</td>\n",
              "      <td>0-1</td>\n",
              "      <td>49</td>\n",
              "      <td>130</td>\n",
              "      <td>52</td>\n",
              "      <td>147</td>\n",
              "      <td>55</td>\n",
              "      <td>165</td>\n",
              "      <td>59</td>\n",
              "      <td>180</td>\n",
              "      <td>67</td>\n",
              "      <td>194</td>\n",
              "      <td>81</td>\n",
              "      <td>205</td>\n",
              "      <td>99</td>\n",
              "      <td>211</td>\n",
              "      <td>114</td>\n",
              "      <td>217</td>\n",
              "      <td>129</td>\n",
              "      <td>219</td>\n",
              "      <td>143</td>\n",
              "      <td>216</td>\n",
              "      <td>156</td>\n",
              "      <td>209</td>\n",
              "      <td>169</td>\n",
              "      <td>201</td>\n",
              "      <td>179</td>\n",
              "      <td>189</td>\n",
              "      <td>185</td>\n",
              "      <td>175</td>\n",
              "      <td>187</td>\n",
              "      <td>160</td>\n",
              "      <td>187</td>\n",
              "      <td>145</td>\n",
              "      <td>187</td>\n",
              "      <td>129</td>\n",
              "      <td>69</td>\n",
              "      <td>113</td>\n",
              "      <td>...</td>\n",
              "      <td>104</td>\n",
              "      <td>177</td>\n",
              "      <td>112</td>\n",
              "      <td>166</td>\n",
              "      <td>123</td>\n",
              "      <td>160</td>\n",
              "      <td>131</td>\n",
              "      <td>162</td>\n",
              "      <td>139</td>\n",
              "      <td>160</td>\n",
              "      <td>147</td>\n",
              "      <td>166</td>\n",
              "      <td>153</td>\n",
              "      <td>178</td>\n",
              "      <td>147</td>\n",
              "      <td>188</td>\n",
              "      <td>139</td>\n",
              "      <td>191</td>\n",
              "      <td>131</td>\n",
              "      <td>192</td>\n",
              "      <td>123</td>\n",
              "      <td>192</td>\n",
              "      <td>112</td>\n",
              "      <td>188</td>\n",
              "      <td>107</td>\n",
              "      <td>176</td>\n",
              "      <td>124</td>\n",
              "      <td>166</td>\n",
              "      <td>131</td>\n",
              "      <td>167</td>\n",
              "      <td>139</td>\n",
              "      <td>167</td>\n",
              "      <td>149</td>\n",
              "      <td>177</td>\n",
              "      <td>139</td>\n",
              "      <td>183</td>\n",
              "      <td>131</td>\n",
              "      <td>184</td>\n",
              "      <td>123</td>\n",
              "      <td>183</td>\n",
              "    </tr>\n",
              "  </tbody>\n",
              "</table>\n",
              "<p>5 rows × 140 columns</p>\n",
              "</div>"
            ],
            "text/plain": [
              "                                            filename    group  ...  x67  y67\n",
              "0  pictures/control/black/0-1/1_1_1_2017010919471...  control  ...  124  172\n",
              "1  pictures/control/black/0-1/1_1_1_2017010919461...  control  ...  128  170\n",
              "2  pictures/control/black/0-1/1_0_1_2017011021283...  control  ...  122  176\n",
              "3  pictures/control/black/0-1/1_1_1_2017010919462...  control  ...  125  170\n",
              "4  pictures/control/black/0-1/1_1_1_2017010919124...  control  ...  123  183\n",
              "\n",
              "[5 rows x 140 columns]"
            ]
          },
          "metadata": {},
          "execution_count": 4
        }
      ]
    },
    {
      "cell_type": "markdown",
      "metadata": {
        "id": "OV_dJWtplk8S"
      },
      "source": [
        "### **Preparing the data**"
      ]
    },
    {
      "cell_type": "code",
      "metadata": {
        "id": "z8_pJe7Mlf1n"
      },
      "source": [
        "# temp = dataset.iloc[:, 4:]\n",
        "# X = pd.DataFrame() # inputs\n",
        "# for i in range(int(temp.shape[1]/2)): # tuple of points\n",
        "#   X[str(i)] = dataset[['x'+str(i), 'y'+str(i)]].apply(tuple, axis=1)\n",
        "X = dataset.iloc[:, 4:]\n",
        "y = dataset.iloc[:, 1] # labels"
      ],
      "execution_count": 5,
      "outputs": []
    },
    {
      "cell_type": "code",
      "metadata": {
        "id": "eA1BZkUWmoGI"
      },
      "source": [
        "from sklearn.model_selection import train_test_split\n",
        "X_train, X_test, y_train, y_test = train_test_split(X, y, test_size=0.20)"
      ],
      "execution_count": 6,
      "outputs": []
    },
    {
      "cell_type": "markdown",
      "metadata": {
        "id": "GX1UFbIQlEvk"
      },
      "source": [
        "## **Decision Trees for Classification**"
      ]
    },
    {
      "cell_type": "markdown",
      "metadata": {
        "id": "zAEAJMiYoQPE"
      },
      "source": [
        "### **Training and making predictions**"
      ]
    },
    {
      "cell_type": "code",
      "metadata": {
        "colab": {
          "base_uri": "https://localhost:8080/"
        },
        "id": "5oK9bUcQoPLU",
        "outputId": "4a8377b5-030d-48e4-b17a-cfd336665945"
      },
      "source": [
        "from sklearn.tree import DecisionTreeClassifier\n",
        "classifier = DecisionTreeClassifier()\n",
        "classifier.fit(X_train, y_train)"
      ],
      "execution_count": 7,
      "outputs": [
        {
          "output_type": "execute_result",
          "data": {
            "text/plain": [
              "DecisionTreeClassifier(ccp_alpha=0.0, class_weight=None, criterion='gini',\n",
              "                       max_depth=None, max_features=None, max_leaf_nodes=None,\n",
              "                       min_impurity_decrease=0.0, min_impurity_split=None,\n",
              "                       min_samples_leaf=1, min_samples_split=2,\n",
              "                       min_weight_fraction_leaf=0.0, presort='deprecated',\n",
              "                       random_state=None, splitter='best')"
            ]
          },
          "metadata": {},
          "execution_count": 7
        }
      ]
    },
    {
      "cell_type": "code",
      "metadata": {
        "id": "lDqUDRCkoYXO"
      },
      "source": [
        "y_pred = classifier.predict(X_test)"
      ],
      "execution_count": 8,
      "outputs": []
    },
    {
      "cell_type": "markdown",
      "metadata": {
        "id": "Uu43P7cIobzG"
      },
      "source": [
        "### **Evaluate the algorithm**"
      ]
    },
    {
      "cell_type": "code",
      "metadata": {
        "colab": {
          "base_uri": "https://localhost:8080/"
        },
        "id": "00Y8ajs5oa4W",
        "outputId": "a801dd76-eac9-4244-a16a-07cdc6e1f27a"
      },
      "source": [
        "from sklearn.metrics import classification_report, confusion_matrix\n",
        "mtx = confusion_matrix(y_test, y_pred)\n",
        "mtx"
      ],
      "execution_count": 9,
      "outputs": [
        {
          "output_type": "execute_result",
          "data": {
            "text/plain": [
              "array([[134,  21],\n",
              "       [ 20, 311]])"
            ]
          },
          "metadata": {},
          "execution_count": 9
        }
      ]
    },
    {
      "cell_type": "code",
      "metadata": {
        "colab": {
          "base_uri": "https://localhost:8080/",
          "height": 343
        },
        "id": "N2tGJzK1ykNt",
        "outputId": "bc6530d0-734c-4c7d-ed56-ce9d3cc26580"
      },
      "source": [
        "# visually display confusion matrix\n",
        "class_names=['cchs', 'control'] # name  of classes\n",
        "fig, ax = plt.subplots()\n",
        "tick_marks = np.arange(len(class_names))\n",
        "plt.xticks(tick_marks, class_names)\n",
        "plt.yticks(tick_marks, class_names)\n",
        "# create heatmap\n",
        "sns.heatmap(pd.DataFrame(mtx), annot=True, cmap=\"YlGnBu\" ,fmt='g')\n",
        "ax.xaxis.set_label_position(\"top\")\n",
        "plt.tight_layout()\n",
        "plt.title('Confusion matrix', y=1.1)\n",
        "plt.ylabel('Actual label')\n",
        "plt.xlabel('Predicted label')"
      ],
      "execution_count": 10,
      "outputs": [
        {
          "output_type": "execute_result",
          "data": {
            "text/plain": [
              "Text(0.5, 257.44, 'Predicted label')"
            ]
          },
          "metadata": {},
          "execution_count": 10
        },
        {
          "output_type": "display_data",
          "data": {
            "image/png": "[encoded data removed]",
            "text/plain": [
              "<Figure size 432x288 with 2 Axes>"
            ]
          },
          "metadata": {
            "needs_background": "light"
          }
        }
      ]
    },
    {
      "cell_type": "code",
      "metadata": {
        "colab": {
          "base_uri": "https://localhost:8080/"
        },
        "id": "pELs9p5r0Vav",
        "outputId": "45625548-1382-404a-ba3e-4d702b82a4c7"
      },
      "source": [
        "print(classification_report(y_test, y_pred))"
      ],
      "execution_count": 11,
      "outputs": [
        {
          "output_type": "stream",
          "name": "stdout",
          "text": [
            "              precision    recall  f1-score   support\n",
            "\n",
            "        cchs       0.87      0.86      0.87       155\n",
            "     control       0.94      0.94      0.94       331\n",
            "\n",
            "    accuracy                           0.92       486\n",
            "   macro avg       0.90      0.90      0.90       486\n",
            "weighted avg       0.92      0.92      0.92       486\n",
            "\n"
          ]
        }
      ]
    },
    {
      "cell_type": "markdown",
      "metadata": {
        "id": "28Fmcm7wpW3U"
      },
      "source": [
        "## **Binary Logistic Regression**"
      ]
    },
    {
      "cell_type": "markdown",
      "metadata": {
        "id": "8NBV0GAdyEty"
      },
      "source": [
        "### **Training and making predictions**"
      ]
    },
    {
      "cell_type": "code",
      "metadata": {
        "id": "0ITbxKSnrWDy"
      },
      "source": [
        "from sklearn.linear_model import LogisticRegression\n",
        "logreg = LogisticRegression()"
      ],
      "execution_count": 12,
      "outputs": []
    },
    {
      "cell_type": "code",
      "metadata": {
        "colab": {
          "base_uri": "https://localhost:8080/"
        },
        "id": "mJKmbv8VvGr5",
        "outputId": "90312dba-fb1e-4a51-8609-44bed71a1a29"
      },
      "source": [
        "logreg.fit(X_train, y_train)"
      ],
      "execution_count": 13,
      "outputs": [
        {
          "output_type": "stream",
          "name": "stderr",
          "text": [
            "/usr/local/lib/python3.7/dist-packages/sklearn/linear_model/_logistic.py:940: ConvergenceWarning: lbfgs failed to converge (status=1):\n",
            "STOP: TOTAL NO. of ITERATIONS REACHED LIMIT.\n",
            "\n",
            "Increase the number of iterations (max_iter) or scale the data as shown in:\n",
            "    https://scikit-learn.org/stable/modules/preprocessing.html\n",
            "Please also refer to the documentation for alternative solver options:\n",
            "    https://scikit-learn.org/stable/modules/linear_model.html#logistic-regression\n",
            "  extra_warning_msg=_LOGISTIC_SOLVER_CONVERGENCE_MSG)\n"
          ]
        },
        {
          "output_type": "execute_result",
          "data": {
            "text/plain": [
              "LogisticRegression(C=1.0, class_weight=None, dual=False, fit_intercept=True,\n",
              "                   intercept_scaling=1, l1_ratio=None, max_iter=100,\n",
              "                   multi_class='auto', n_jobs=None, penalty='l2',\n",
              "                   random_state=None, solver='lbfgs', tol=0.0001, verbose=0,\n",
              "                   warm_start=False)"
            ]
          },
          "metadata": {},
          "execution_count": 13
        }
      ]
    },
    {
      "cell_type": "code",
      "metadata": {
        "id": "xNPH4YQgxwnZ"
      },
      "source": [
        "y_pred = logreg.predict(X_test)"
      ],
      "execution_count": 14,
      "outputs": []
    },
    {
      "cell_type": "markdown",
      "metadata": {
        "id": "oglO1rwJyJ2A"
      },
      "source": [
        "### **Evaluate the algorithm**"
      ]
    },
    {
      "cell_type": "code",
      "metadata": {
        "colab": {
          "base_uri": "https://localhost:8080/"
        },
        "id": "HwBg4_LQx0PZ",
        "outputId": "aa6dd045-41ac-49a8-fd62-bdab9569e411"
      },
      "source": [
        "from sklearn import metrics\n",
        "mtx = metrics.confusion_matrix(y_test, y_pred)\n",
        "mtx"
      ],
      "execution_count": 15,
      "outputs": [
        {
          "output_type": "execute_result",
          "data": {
            "text/plain": [
              "array([[135,  20],\n",
              "       [ 57, 274]])"
            ]
          },
          "metadata": {},
          "execution_count": 15
        }
      ]
    },
    {
      "cell_type": "code",
      "metadata": {
        "id": "QhozrB5jyNqU",
        "colab": {
          "base_uri": "https://localhost:8080/",
          "height": 343
        },
        "outputId": "f68501e2-0ae2-4927-9e18-70e0cbc50d4e"
      },
      "source": [
        "# visually display confusion matrix\n",
        "class_names=['cchs', 'control'] # name  of classes\n",
        "fig, ax = plt.subplots()\n",
        "tick_marks = np.arange(len(class_names))\n",
        "plt.xticks(tick_marks, class_names)\n",
        "plt.yticks(tick_marks, class_names)\n",
        "# create heatmap\n",
        "sns.heatmap(pd.DataFrame(mtx), annot=True, cmap=\"YlGnBu\" ,fmt='g')\n",
        "ax.xaxis.set_label_position(\"top\")\n",
        "plt.tight_layout()\n",
        "plt.title('Confusion matrix', y=1.1)\n",
        "plt.ylabel('Actual label')\n",
        "plt.xlabel('Predicted label')"
      ],
      "execution_count": 17,
      "outputs": [
        {
          "output_type": "execute_result",
          "data": {
            "text/plain": [
              "Text(0.5, 257.44, 'Predicted label')"
            ]
          },
          "metadata": {},
          "execution_count": 17
        },
        {
          "output_type": "display_data",
          "data": {
            "image/png": "[encoded data removed]",
            "text/plain": [
              "<Figure size 432x288 with 2 Axes>"
            ]
          },
          "metadata": {
            "needs_background": "light"
          }
        }
      ]
    },
    {
      "cell_type": "code",
      "metadata": {
        "colab": {
          "base_uri": "https://localhost:8080/"
        },
        "id": "59AE5Yg-0W53",
        "outputId": "de55d4ad-0763-4b33-e209-a60502b43509"
      },
      "source": [
        "print(classification_report(y_test, y_pred))"
      ],
      "execution_count": 18,
      "outputs": [
        {
          "output_type": "stream",
          "name": "stdout",
          "text": [
            "              precision    recall  f1-score   support\n",
            "\n",
            "        cchs       0.70      0.87      0.78       155\n",
            "     control       0.93      0.83      0.88       331\n",
            "\n",
            "    accuracy                           0.84       486\n",
            "   macro avg       0.82      0.85      0.83       486\n",
            "weighted avg       0.86      0.84      0.85       486\n",
            "\n"
          ]
        }
      ]
    }
  ]
}